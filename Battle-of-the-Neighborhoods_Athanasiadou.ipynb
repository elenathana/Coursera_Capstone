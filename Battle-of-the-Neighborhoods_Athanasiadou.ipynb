{
    "cells": [
        {
            "cell_type": "markdown",
            "metadata": {
                "collapsed": true
            },
            "source": "# Battle of the Neighborhoods - <font color=MediumVioletRed>Dance Studio in Thessaloniki, Greece.</font>"
        },
        {
            "cell_type": "markdown",
            "metadata": {},
            "source": "## Peer-graded Assignment: Capstone Project - The Battle of Neighborhoods (Week 1)"
        },
        {
            "cell_type": "markdown",
            "metadata": {},
            "source": "###  <font color=blue> 1. Description of the problem and a discussion of the background. (15 marks) </font>"
        },
        {
            "cell_type": "markdown",
            "metadata": {},
            "source": "In this project we will try to find an optimal location for a Dance studio. Specifically, this report will be targeted to stakeholders interested in opening a Dance studio in Thessaloniki, Greece.\n\nSince there are lots of Dance studios in Thessaloniki we will try to detect locations that are not already crowded with. \nWe would also prefer locations as close to city center as possible.\n\nWe will use our data science powers to generate a few most promissing neighborhoods based on this criteria. Advantages of each area will then be clearly expressed so that best possible final location can be chosen by stakeholders.\n"
        },
        {
            "cell_type": "markdown",
            "metadata": {},
            "source": "###  <font color=blue> 2. Description of the data and how it will be used to solve the problem. (15 marks) </font>"
        },
        {
            "cell_type": "markdown",
            "metadata": {},
            "source": "Based on definition of our problem, factors that will influence our decission are:\n\n- number of existing Dance studios in the neighborhood \n- number of and distance to Dance studios in the neighborhood\n- distance of neighborhood from city center\n\nWe decided to use regularly spaced grid of locations, centered around city center, to define our neighborhoods.\n\nFollowing data sources will be needed to extract/generate the required information:\n\n- centers of candidate areas will be generated algorithmically and approximate addresses of centers of those areas will be obtained using Google Maps API reverse geocoding\n- number of Dance studios and their type and location in every neighborhood will be obtained using Foursquare API\n- coordinate of Thessaloniki center will be obtained using Google Maps API geocoding of well known Thessaloniki location (Aristotelous Square)"
        },
        {
            "cell_type": "code",
            "execution_count": null,
            "metadata": {},
            "outputs": [],
            "source": ""
        }
    ],
    "metadata": {
        "kernelspec": {
            "display_name": "Python 3.6",
            "language": "python",
            "name": "python3"
        },
        "language_info": {
            "codemirror_mode": {
                "name": "ipython",
                "version": 3
            },
            "file_extension": ".py",
            "mimetype": "text/x-python",
            "name": "python",
            "nbconvert_exporter": "python",
            "pygments_lexer": "ipython3",
            "version": "3.6.9"
        }
    },
    "nbformat": 4,
    "nbformat_minor": 1
}